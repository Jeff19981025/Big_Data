{
 "cells": [
  {
   "cell_type": "code",
   "execution_count": 1,
   "metadata": {},
   "outputs": [
    {
     "name": "stderr",
     "output_type": "stream",
     "text": [
      "Using TensorFlow backend.\n"
     ]
    }
   ],
   "source": [
    "import numpy as np\n",
    "import matplotlib.pyplot as plt  # for 畫圖用\n",
    "import pandas as pd\n",
    "# Feature Scaling\n",
    "from sklearn.preprocessing import MinMaxScaler\n",
    "from keras.models import Sequential\n",
    "from keras.layers import Dense\n",
    "from keras.layers import LSTM\n",
    "from keras.layers import Dropout\n",
    "from openpyxl import load_workbook\n",
    "from openpyxl import Workbook"
   ]
  },
  {
   "cell_type": "code",
   "execution_count": 2,
   "metadata": {},
   "outputs": [],
   "source": [
    "# Import the training set\n",
    "dataset_train = pd.read_excel('B(半導體).xlsx')  # 讀取訓練集\n",
    "dataset_test = pd.read_excel('B(半導體)_測試.xlsx')\n",
    "dataset_realtest = pd.read_excel('B(半導體)_50天_ques.xlsx')\n",
    "data_all = pd.concat((dataset_train,dataset_test), axis = 0)\n",
    "data_all=data_all.fillna(method=\"ffill\",limit=10)\n",
    "#dataset_train=dataset_train.dropna(axis=1)\n",
    "training_set = data_all.iloc[:,[2,5,31,32,33,34,36,41,42,43,44,45,46]]#.values  # 取欄位值\n",
    "training_set1= data_all.iloc[:, 1:2].values"
   ]
  },
  {
   "cell_type": "code",
   "execution_count": 3,
   "metadata": {},
   "outputs": [],
   "source": [
    "#data_all"
   ]
  },
  {
   "cell_type": "code",
   "execution_count": 4,
   "metadata": {},
   "outputs": [],
   "source": [
    "real_stock_price =data_all.iloc[2100:2232,1].values"
   ]
  },
  {
   "cell_type": "code",
   "execution_count": 5,
   "metadata": {},
   "outputs": [],
   "source": [
    "train = data_all.iloc[:2100,[2,5,31,32,33,34,36,41,42,43,44,45,46]]"
   ]
  },
  {
   "cell_type": "code",
   "execution_count": 6,
   "metadata": {},
   "outputs": [],
   "source": [
    "sc = MinMaxScaler(feature_range = (0, 1))\n",
    "training_set_scaled = sc.fit_transform(training_set)\n",
    "sc1 = MinMaxScaler(feature_range = (0, 1))\n",
    "training_set_scaled1 = sc1.fit_transform(training_set1)"
   ]
  },
  {
   "cell_type": "code",
   "execution_count": 7,
   "metadata": {},
   "outputs": [],
   "source": [
    "X_train = []   \n",
    "y_train = []   \n",
    "for i in range(7, 2100):  # 2100 是訓練集總數\n",
    "    X_train.append(training_set_scaled[i-7:i,:])\n",
    "    y_train.append(training_set_scaled1[i,0])\n",
    "X_train, y_train = np.array(X_train), np.array(y_train)  # 轉成numpy array的格式，以利輸入 RNN\n",
    "X_train = np.reshape(X_train, (X_train.shape[0], X_train.shape[1]*X_train.shape[2], 1))\n",
    "# Import the Keras libraries and packages\n",
    "\n",
    "# Initialising the RNN\n",
    "regressor = Sequential()"
   ]
  },
  {
   "cell_type": "code",
   "execution_count": 8,
   "metadata": {
    "scrolled": true
   },
   "outputs": [
    {
     "name": "stdout",
     "output_type": "stream",
     "text": [
      "Epoch 1/100\n",
      "2093/2093 [==============================] - 13s 6ms/step - loss: 0.0148\n",
      "Epoch 2/100\n",
      "2093/2093 [==============================] - 12s 6ms/step - loss: 0.0089\n",
      "Epoch 3/100\n",
      "2093/2093 [==============================] - 12s 6ms/step - loss: 0.0093\n",
      "Epoch 4/100\n",
      "2093/2093 [==============================] - 13s 6ms/step - loss: 0.0080\n",
      "Epoch 5/100\n",
      "2093/2093 [==============================] - 12s 6ms/step - loss: 0.0066\n",
      "Epoch 6/100\n",
      "2093/2093 [==============================] - 11s 5ms/step - loss: 0.0025\n",
      "Epoch 7/100\n",
      "2093/2093 [==============================] - 11s 5ms/step - loss: 0.0017\n",
      "Epoch 8/100\n",
      "2093/2093 [==============================] - 10s 5ms/step - loss: 0.0017\n",
      "Epoch 9/100\n",
      "2093/2093 [==============================] - 10s 5ms/step - loss: 0.0014\n",
      "Epoch 10/100\n",
      "2093/2093 [==============================] - 10s 5ms/step - loss: 0.0013\n",
      "Epoch 11/100\n",
      "2093/2093 [==============================] - 11s 5ms/step - loss: 0.0011\n",
      "Epoch 12/100\n",
      "2093/2093 [==============================] - 11s 5ms/step - loss: 0.0011\n",
      "Epoch 13/100\n",
      "2093/2093 [==============================] - 11s 5ms/step - loss: 0.0011\n",
      "Epoch 14/100\n",
      "2093/2093 [==============================] - 11s 5ms/step - loss: 0.0010\n",
      "Epoch 15/100\n",
      "2093/2093 [==============================] - 11s 5ms/step - loss: 9.8504e-04\n",
      "Epoch 16/100\n",
      "2093/2093 [==============================] - 11s 5ms/step - loss: 9.9646e-04\n",
      "Epoch 17/100\n",
      "2093/2093 [==============================] - 11s 5ms/step - loss: 0.0011\n",
      "Epoch 18/100\n",
      "2093/2093 [==============================] - 12s 6ms/step - loss: 0.0011\n",
      "Epoch 19/100\n",
      "2093/2093 [==============================] - 12s 6ms/step - loss: 0.0011\n",
      "Epoch 20/100\n",
      "2093/2093 [==============================] - 11s 5ms/step - loss: 9.5600e-04\n",
      "Epoch 21/100\n",
      "2093/2093 [==============================] - 10s 5ms/step - loss: 9.5639e-04\n",
      "Epoch 22/100\n",
      "2093/2093 [==============================] - 11s 5ms/step - loss: 9.6003e-04\n",
      "Epoch 23/100\n",
      "2093/2093 [==============================] - 10s 5ms/step - loss: 8.4682e-04\n",
      "Epoch 24/100\n",
      "2093/2093 [==============================] - 10s 5ms/step - loss: 8.6603e-04\n",
      "Epoch 25/100\n",
      "2093/2093 [==============================] - 10s 5ms/step - loss: 9.0299e-04\n",
      "Epoch 26/100\n",
      "2093/2093 [==============================] - 8s 4ms/step - loss: 8.0129e-04\n",
      "Epoch 27/100\n",
      "2093/2093 [==============================] - 9s 4ms/step - loss: 8.4344e-04\n",
      "Epoch 28/100\n",
      "2093/2093 [==============================] - 9s 4ms/step - loss: 8.6834e-04\n",
      "Epoch 29/100\n",
      "2093/2093 [==============================] - 8s 4ms/step - loss: 9.0830e-04\n",
      "Epoch 30/100\n",
      "2093/2093 [==============================] - 8s 4ms/step - loss: 8.4471e-04\n",
      "Epoch 31/100\n",
      "2093/2093 [==============================] - 8s 4ms/step - loss: 7.7015e-04\n",
      "Epoch 32/100\n",
      "2093/2093 [==============================] - 8s 4ms/step - loss: 7.6415e-04\n",
      "Epoch 33/100\n",
      "2093/2093 [==============================] - 8s 4ms/step - loss: 7.8272e-04\n",
      "Epoch 34/100\n",
      "2093/2093 [==============================] - 8s 4ms/step - loss: 7.3713e-04\n",
      "Epoch 35/100\n",
      "2093/2093 [==============================] - 8s 4ms/step - loss: 7.9309e-04\n",
      "Epoch 36/100\n",
      "2093/2093 [==============================] - 8s 4ms/step - loss: 7.2475e-04\n",
      "Epoch 37/100\n",
      "2093/2093 [==============================] - 8s 4ms/step - loss: 7.2517e-04\n",
      "Epoch 38/100\n",
      "2093/2093 [==============================] - 8s 4ms/step - loss: 8.8634e-04\n",
      "Epoch 39/100\n",
      "2093/2093 [==============================] - 8s 4ms/step - loss: 8.5269e-04\n",
      "Epoch 40/100\n",
      "2093/2093 [==============================] - 8s 4ms/step - loss: 7.2750e-04\n",
      "Epoch 41/100\n",
      "2093/2093 [==============================] - 8s 4ms/step - loss: 7.4490e-04\n",
      "Epoch 42/100\n",
      "2093/2093 [==============================] - 8s 4ms/step - loss: 7.2342e-04\n",
      "Epoch 43/100\n",
      "2093/2093 [==============================] - 8s 4ms/step - loss: 6.8853e-04\n",
      "Epoch 44/100\n",
      "2093/2093 [==============================] - 8s 4ms/step - loss: 7.2935e-04\n",
      "Epoch 45/100\n",
      "2093/2093 [==============================] - 8s 4ms/step - loss: 7.3146e-04\n",
      "Epoch 46/100\n",
      "2093/2093 [==============================] - 8s 4ms/step - loss: 7.5951e-04\n",
      "Epoch 47/100\n",
      "2093/2093 [==============================] - 8s 4ms/step - loss: 7.6856e-04\n",
      "Epoch 48/100\n",
      "2093/2093 [==============================] - 8s 4ms/step - loss: 7.2293e-04\n",
      "Epoch 49/100\n",
      "2093/2093 [==============================] - 8s 4ms/step - loss: 7.2445e-04\n",
      "Epoch 50/100\n",
      "2093/2093 [==============================] - 8s 4ms/step - loss: 7.8366e-04\n",
      "Epoch 51/100\n",
      "2093/2093 [==============================] - 8s 4ms/step - loss: 7.3756e-04\n",
      "Epoch 52/100\n",
      "2093/2093 [==============================] - 8s 4ms/step - loss: 6.5786e-04\n",
      "Epoch 53/100\n",
      "2093/2093 [==============================] - 8s 4ms/step - loss: 6.5853e-04\n",
      "Epoch 54/100\n",
      "2093/2093 [==============================] - 8s 4ms/step - loss: 7.1918e-04\n",
      "Epoch 55/100\n",
      "2093/2093 [==============================] - 8s 4ms/step - loss: 7.0311e-04\n",
      "Epoch 56/100\n",
      "2093/2093 [==============================] - 8s 4ms/step - loss: 6.4621e-04\n",
      "Epoch 57/100\n",
      "2093/2093 [==============================] - 8s 4ms/step - loss: 7.0266e-04\n",
      "Epoch 58/100\n",
      "2093/2093 [==============================] - 8s 4ms/step - loss: 6.8688e-04\n",
      "Epoch 59/100\n",
      "2093/2093 [==============================] - 8s 4ms/step - loss: 6.7614e-04\n",
      "Epoch 60/100\n",
      "2093/2093 [==============================] - 8s 4ms/step - loss: 6.5299e-04\n",
      "Epoch 61/100\n",
      "2093/2093 [==============================] - 8s 4ms/step - loss: 6.0086e-04\n",
      "Epoch 62/100\n",
      "2093/2093 [==============================] - 8s 4ms/step - loss: 6.1320e-04\n",
      "Epoch 63/100\n",
      "2093/2093 [==============================] - 8s 4ms/step - loss: 6.5937e-04\n",
      "Epoch 64/100\n",
      "2093/2093 [==============================] - 8s 4ms/step - loss: 6.7630e-04\n",
      "Epoch 65/100\n",
      "2093/2093 [==============================] - 8s 4ms/step - loss: 7.6646e-04\n",
      "Epoch 66/100\n",
      "2093/2093 [==============================] - 8s 4ms/step - loss: 7.0660e-04\n",
      "Epoch 67/100\n",
      "2093/2093 [==============================] - 8s 4ms/step - loss: 6.8976e-04\n",
      "Epoch 68/100\n",
      "2093/2093 [==============================] - 8s 4ms/step - loss: 6.5841e-04\n",
      "Epoch 69/100\n",
      "2093/2093 [==============================] - 8s 4ms/step - loss: 6.6438e-04\n",
      "Epoch 70/100\n",
      "2093/2093 [==============================] - 8s 4ms/step - loss: 6.9495e-04\n",
      "Epoch 71/100\n",
      "2093/2093 [==============================] - 8s 4ms/step - loss: 7.2123e-04\n",
      "Epoch 72/100\n",
      "2093/2093 [==============================] - 8s 4ms/step - loss: 6.3381e-04\n",
      "Epoch 73/100\n",
      "2093/2093 [==============================] - 8s 4ms/step - loss: 6.0739e-04\n",
      "Epoch 74/100\n",
      "2093/2093 [==============================] - 8s 4ms/step - loss: 6.6092e-04\n",
      "Epoch 75/100\n",
      "2093/2093 [==============================] - 8s 4ms/step - loss: 6.2326e-04\n",
      "Epoch 76/100\n",
      "2093/2093 [==============================] - 8s 4ms/step - loss: 6.7896e-04\n",
      "Epoch 77/100\n",
      "2093/2093 [==============================] - 8s 4ms/step - loss: 6.1489e-04\n",
      "Epoch 78/100\n",
      "2093/2093 [==============================] - 8s 4ms/step - loss: 6.2624e-04\n",
      "Epoch 79/100\n",
      "2093/2093 [==============================] - 8s 4ms/step - loss: 6.3640e-04\n",
      "Epoch 80/100\n",
      "2093/2093 [==============================] - 8s 4ms/step - loss: 6.0932e-04\n",
      "Epoch 81/100\n",
      "2093/2093 [==============================] - 8s 4ms/step - loss: 6.2574e-04\n",
      "Epoch 82/100\n",
      "2093/2093 [==============================] - 8s 4ms/step - loss: 6.0383e-04\n",
      "Epoch 83/100\n",
      "2093/2093 [==============================] - 8s 4ms/step - loss: 6.1058e-04\n",
      "Epoch 84/100\n",
      "2093/2093 [==============================] - 8s 4ms/step - loss: 6.0533e-04\n",
      "Epoch 85/100\n",
      "2093/2093 [==============================] - 8s 4ms/step - loss: 5.7825e-04\n",
      "Epoch 86/100\n",
      "2093/2093 [==============================] - 8s 4ms/step - loss: 6.2597e-04\n",
      "Epoch 87/100\n",
      "2093/2093 [==============================] - 8s 4ms/step - loss: 6.6458e-04\n",
      "Epoch 88/100\n",
      "2093/2093 [==============================] - 8s 4ms/step - loss: 6.7190e-04\n",
      "Epoch 89/100\n",
      "2093/2093 [==============================] - 8s 4ms/step - loss: 6.1794e-04\n",
      "Epoch 90/100\n",
      "2093/2093 [==============================] - 8s 4ms/step - loss: 5.9972e-04\n",
      "Epoch 91/100\n",
      "2093/2093 [==============================] - 8s 4ms/step - loss: 5.8600e-04\n",
      "Epoch 92/100\n",
      "2093/2093 [==============================] - 8s 4ms/step - loss: 6.1816e-04\n",
      "Epoch 93/100\n"
     ]
    },
    {
     "name": "stdout",
     "output_type": "stream",
     "text": [
      "2093/2093 [==============================] - 8s 4ms/step - loss: 6.0880e-04\n",
      "Epoch 94/100\n",
      "2093/2093 [==============================] - 8s 4ms/step - loss: 5.9861e-04\n",
      "Epoch 95/100\n",
      "2093/2093 [==============================] - 9s 4ms/step - loss: 6.1116e-04\n",
      "Epoch 96/100\n",
      "2093/2093 [==============================] - 10s 5ms/step - loss: 6.3340e-04\n",
      "Epoch 97/100\n",
      "2093/2093 [==============================] - 9s 4ms/step - loss: 6.8276e-04\n",
      "Epoch 98/100\n",
      "2093/2093 [==============================] - 9s 4ms/step - loss: 6.2041e-04\n",
      "Epoch 99/100\n",
      "2093/2093 [==============================] - 9s 4ms/step - loss: 6.6599e-04\n",
      "Epoch 100/100\n",
      "2093/2093 [==============================] - 9s 4ms/step - loss: 6.6541e-04\n"
     ]
    },
    {
     "data": {
      "text/plain": [
       "<keras.callbacks.callbacks.History at 0x14712473240>"
      ]
     },
     "execution_count": 8,
     "metadata": {},
     "output_type": "execute_result"
    }
   ],
   "source": [
    "# Adding the first LSTM layer and some Dropout regularisation\n",
    "regressor.add(LSTM(units = 50, return_sequences = True, input_shape = (X_train.shape[1], 1)))\n",
    "regressor.add(Dropout(0.2))\n",
    "\n",
    "# Adding a second LSTM layer and some Dropout regularisation\n",
    "regressor.add(LSTM(units = 50, return_sequences = True))\n",
    "regressor.add(Dropout(0.2))\n",
    "\n",
    "# Adding a third LSTM layer and some Dropout regularisation\n",
    "regressor.add(LSTM(units = 50, return_sequences = True))\n",
    "regressor.add(Dropout(0.2))\n",
    "\n",
    "# Adding a fourth LSTM layer and some Dropout regularisation\n",
    "regressor.add(LSTM(units = 50))\n",
    "regressor.add(Dropout(0.2))\n",
    "# Adding the output layer\n",
    "regressor.add(Dense(units = 1))\n",
    "# Compiling\n",
    "regressor.compile(optimizer = 'adam', loss = 'mean_squared_error')\n",
    "\n",
    "# 進行訓練\n",
    "regressor.fit(X_train, y_train, epochs = 100, batch_size = 32)"
   ]
  },
  {
   "cell_type": "code",
   "execution_count": 9,
   "metadata": {},
   "outputs": [],
   "source": [
    "#test = sc.fit_transform(training_set)"
   ]
  },
  {
   "cell_type": "code",
   "execution_count": 10,
   "metadata": {},
   "outputs": [],
   "source": [
    "X_test=[]\n",
    "for i in range(2101, 2232):  # 1747 是訓練集總數\n",
    "    X_test.append(training_set_scaled[i-7:i,0:])"
   ]
  },
  {
   "cell_type": "code",
   "execution_count": 11,
   "metadata": {},
   "outputs": [],
   "source": [
    "X_test = np.array(X_test)\n",
    "X_test = np.reshape(X_test, (X_test.shape[0], X_test.shape[1]*X_test.shape[2], 1))"
   ]
  },
  {
   "cell_type": "code",
   "execution_count": 12,
   "metadata": {},
   "outputs": [],
   "source": [
    "#list(X_test)"
   ]
  },
  {
   "cell_type": "code",
   "execution_count": 13,
   "metadata": {},
   "outputs": [],
   "source": [
    "predicted_stock_price = regressor.predict(X_test)"
   ]
  },
  {
   "cell_type": "code",
   "execution_count": 14,
   "metadata": {},
   "outputs": [],
   "source": [
    "predicted_stock_price = sc1.inverse_transform(predicted_stock_price)"
   ]
  },
  {
   "cell_type": "code",
   "execution_count": 15,
   "metadata": {},
   "outputs": [
    {
     "data": {
      "text/plain": [
       "Text(0, 0.5, 'B Price')"
      ]
     },
     "execution_count": 15,
     "metadata": {},
     "output_type": "execute_result"
    },
    {
     "data": {
      "image/png": "[encoded data removed]",
      "text/plain": [
       "<Figure size 432x288 with 1 Axes>"
      ]
     },
     "metadata": {},
     "output_type": "display_data"
    }
   ],
   "source": [
    "plt.plot(predicted_stock_price,color='red',label= 'predicted_stock_price')\n",
    "plt.plot(real_stock_price,color = 'blue',label='real_stock_price')\n",
    "plt.title('B Stock Price Prediction')\n",
    "plt.xlabel('Time')\n",
    "plt.ylabel('B Price')"
   ]
  },
  {
   "cell_type": "code",
   "execution_count": 20,
   "metadata": {},
   "outputs": [
    {
     "data": {
      "text/plain": [
       "[<matplotlib.lines.Line2D at 0x14723dc7ef0>]"
      ]
     },
     "execution_count": 20,
     "metadata": {},
     "output_type": "execute_result"
    },
    {
     "data": {
      "image/png": "[encoded data removed]",
      "text/plain": [
       "<Figure size 432x288 with 1 Axes>"
      ]
     },
     "metadata": {},
     "output_type": "display_data"
    }
   ],
   "source": [
    "data_50 = pd.read_excel('B(半導體)_50天_ques.xlsx')\n",
    "data_50 = data_50.iloc[:,[2,5,31,32,33,34,36,41,42,43,44,45,46]]\n",
    "data_50plus = pd.concat((dataset_test,data_50),join='inner', axis = 0)\n",
    "data_50plus=data_50plus.fillna(method=\"ffill\")\n",
    "final_scaled=sc.transform(data_50plus)\n",
    "X_final = []\n",
    "for i in range(485, 535):  # 1747 是訓練集總數\n",
    "    X_final.append(final_scaled[i-7:i,0:])\n",
    "X_final = np.array(X_final)\n",
    "X_final = np.reshape(X_final, (X_final.shape[0], X_final.shape[1]*X_final.shape[2], 1))\n",
    "predicted_stock_price = regressor.predict(X_final)\n",
    "predicted_stock_price = sc1.inverse_transform(predicted_stock_price)\n",
    "plt.plot(predicted_stock_price)"
   ]
  },
  {
   "cell_type": "code",
   "execution_count": 21,
   "metadata": {},
   "outputs": [],
   "source": [
    "predicted_stock_price=pd.DataFrame(predicted_stock_price)\n",
    "\n",
    "predicted_stock_price.to_excel('t15.xlsx')\n"
   ]
  },
  {
   "cell_type": "code",
   "execution_count": null,
   "metadata": {},
   "outputs": [],
   "source": []
  }
 ],
 "metadata": {
  "kernelspec": {
   "display_name": "Python 3",
   "language": "python",
   "name": "python3"
  },
  "language_info": {
   "codemirror_mode": {
    "name": "ipython",
    "version": 3
   },
   "file_extension": ".py",
   "mimetype": "text/x-python",
   "name": "python",
   "nbconvert_exporter": "python",
   "pygments_lexer": "ipython3",
   "version": "3.6.4"
  }
 },
 "nbformat": 4,
 "nbformat_minor": 2
}
