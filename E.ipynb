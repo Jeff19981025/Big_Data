{
 "cells": [
  {
   "cell_type": "code",
   "execution_count": 1,
   "metadata": {},
   "outputs": [
    {
     "name": "stderr",
     "output_type": "stream",
     "text": [
      "Using TensorFlow backend.\n"
     ]
    }
   ],
   "source": [
    "import numpy as np\n",
    "import matplotlib.pyplot as plt  # for 畫圖用\n",
    "import pandas as pd\n",
    "# Feature Scaling\n",
    "from sklearn.preprocessing import MinMaxScaler\n",
    "from keras.models import Sequential\n",
    "from keras.layers import Dense\n",
    "from keras.layers import LSTM\n",
    "from keras.layers import Dropout"
   ]
  },
  {
   "cell_type": "code",
   "execution_count": 31,
   "metadata": {
    "scrolled": true
   },
   "outputs": [],
   "source": [
    "# Import the training set\n",
    "dataset_train = pd.read_excel('E(蘋概股).xlsx')  # 讀取訓練集\n",
    "dataset_test = pd.read_excel('E(蘋概股)_測試.xlsx')\n",
    "data_all = pd.concat((dataset_train,dataset_test),join='inner', axis = 0)\n",
    "data_all=data_all.fillna(method=\"ffill\")\n",
    "#dataset_train=dataset_train.dropna(axis=1)\n",
    "training_set = data_all.iloc[:,[2,5,31,32,33,34,36,41,42,43,44,45,46]]#.values  # 取欄位值\n",
    "training_set1= data_all.iloc[:, 1:2].values"
   ]
  },
  {
   "cell_type": "code",
   "execution_count": 15,
   "metadata": {},
   "outputs": [
    {
     "data": {
      "text/html": [
       "<div>\n",
       "<style scoped>\n",
       "    .dataframe tbody tr th:only-of-type {\n",
       "        vertical-align: middle;\n",
       "    }\n",
       "\n",
       "    .dataframe tbody tr th {\n",
       "        vertical-align: top;\n",
       "    }\n",
       "\n",
       "    .dataframe thead th {\n",
       "        text-align: right;\n",
       "    }\n",
       "</style>\n",
       "<table border=\"1\" class=\"dataframe\">\n",
       "  <thead>\n",
       "    <tr style=\"text-align: right;\">\n",
       "      <th></th>\n",
       "      <th>- MARKET VALUE</th>\n",
       "      <th>- PRICE INDEX</th>\n",
       "      <th>- ASK PRICE</th>\n",
       "      <th>- BID PRICE</th>\n",
       "      <th>- PRICE HIGH</th>\n",
       "      <th>- PRICE LOW</th>\n",
       "      <th>- OPENING PRICE</th>\n",
       "      <th>- UNADJ. PRICE OPEN</th>\n",
       "      <th>- UNADJUSTED PRICE</th>\n",
       "      <th>- UNADJ. ASK PRICE</th>\n",
       "      <th>- UNADJ. BID PRICE</th>\n",
       "      <th>- UNADJ. PRICE HIGH</th>\n",
       "      <th>- UNADJ. PRICE LOW</th>\n",
       "    </tr>\n",
       "  </thead>\n",
       "  <tbody>\n",
       "    <tr>\n",
       "      <th>0</th>\n",
       "      <td>53857.52</td>\n",
       "      <td>607.6</td>\n",
       "      <td>81.0</td>\n",
       "      <td>80.9</td>\n",
       "      <td>59.36</td>\n",
       "      <td>57.25</td>\n",
       "      <td>57.61</td>\n",
       "      <td>79.0</td>\n",
       "      <td>81.0</td>\n",
       "      <td>81.0</td>\n",
       "      <td>80.9</td>\n",
       "      <td>81.4</td>\n",
       "      <td>78.5</td>\n",
       "    </tr>\n",
       "    <tr>\n",
       "      <th>1</th>\n",
       "      <td>53525.05</td>\n",
       "      <td>603.8</td>\n",
       "      <td>80.6</td>\n",
       "      <td>80.5</td>\n",
       "      <td>59.29</td>\n",
       "      <td>58.42</td>\n",
       "      <td>59.07</td>\n",
       "      <td>81.0</td>\n",
       "      <td>80.5</td>\n",
       "      <td>80.6</td>\n",
       "      <td>80.5</td>\n",
       "      <td>81.3</td>\n",
       "      <td>80.1</td>\n",
       "    </tr>\n",
       "    <tr>\n",
       "      <th>2</th>\n",
       "      <td>53525.05</td>\n",
       "      <td>603.8</td>\n",
       "      <td>80.6</td>\n",
       "      <td>80.5</td>\n",
       "      <td>59.29</td>\n",
       "      <td>58.42</td>\n",
       "      <td>59.07</td>\n",
       "      <td>81.0</td>\n",
       "      <td>80.5</td>\n",
       "      <td>80.6</td>\n",
       "      <td>80.5</td>\n",
       "      <td>81.3</td>\n",
       "      <td>80.1</td>\n",
       "    </tr>\n",
       "    <tr>\n",
       "      <th>3</th>\n",
       "      <td>53857.52</td>\n",
       "      <td>607.6</td>\n",
       "      <td>81.0</td>\n",
       "      <td>80.9</td>\n",
       "      <td>59.73</td>\n",
       "      <td>58.78</td>\n",
       "      <td>59.22</td>\n",
       "      <td>81.2</td>\n",
       "      <td>81.0</td>\n",
       "      <td>81.0</td>\n",
       "      <td>80.9</td>\n",
       "      <td>81.9</td>\n",
       "      <td>80.6</td>\n",
       "    </tr>\n",
       "    <tr>\n",
       "      <th>4</th>\n",
       "      <td>55054.34</td>\n",
       "      <td>621.1</td>\n",
       "      <td>82.9</td>\n",
       "      <td>82.8</td>\n",
       "      <td>60.89</td>\n",
       "      <td>59.36</td>\n",
       "      <td>59.80</td>\n",
       "      <td>82.0</td>\n",
       "      <td>82.8</td>\n",
       "      <td>82.9</td>\n",
       "      <td>82.8</td>\n",
       "      <td>83.5</td>\n",
       "      <td>81.4</td>\n",
       "    </tr>\n",
       "    <tr>\n",
       "      <th>...</th>\n",
       "      <td>...</td>\n",
       "      <td>...</td>\n",
       "      <td>...</td>\n",
       "      <td>...</td>\n",
       "      <td>...</td>\n",
       "      <td>...</td>\n",
       "      <td>...</td>\n",
       "      <td>...</td>\n",
       "      <td>...</td>\n",
       "      <td>...</td>\n",
       "      <td>...</td>\n",
       "      <td>...</td>\n",
       "      <td>...</td>\n",
       "    </tr>\n",
       "    <tr>\n",
       "      <th>480</th>\n",
       "      <td>220331.80</td>\n",
       "      <td>2145.2</td>\n",
       "      <td>286.5</td>\n",
       "      <td>286.0</td>\n",
       "      <td>274.72</td>\n",
       "      <td>265.70</td>\n",
       "      <td>273.29</td>\n",
       "      <td>288.0</td>\n",
       "      <td>286.0</td>\n",
       "      <td>286.5</td>\n",
       "      <td>286.0</td>\n",
       "      <td>289.5</td>\n",
       "      <td>280.0</td>\n",
       "    </tr>\n",
       "    <tr>\n",
       "      <th>481</th>\n",
       "      <td>234969.30</td>\n",
       "      <td>2287.8</td>\n",
       "      <td>305.0</td>\n",
       "      <td>304.5</td>\n",
       "      <td>292.75</td>\n",
       "      <td>275.19</td>\n",
       "      <td>275.19</td>\n",
       "      <td>290.0</td>\n",
       "      <td>305.0</td>\n",
       "      <td>305.0</td>\n",
       "      <td>304.5</td>\n",
       "      <td>308.5</td>\n",
       "      <td>290.0</td>\n",
       "    </tr>\n",
       "    <tr>\n",
       "      <th>482</th>\n",
       "      <td>241517.60</td>\n",
       "      <td>2351.5</td>\n",
       "      <td>313.5</td>\n",
       "      <td>313.0</td>\n",
       "      <td>303.66</td>\n",
       "      <td>296.54</td>\n",
       "      <td>297.02</td>\n",
       "      <td>313.0</td>\n",
       "      <td>313.5</td>\n",
       "      <td>313.5</td>\n",
       "      <td>313.0</td>\n",
       "      <td>320.0</td>\n",
       "      <td>312.5</td>\n",
       "    </tr>\n",
       "    <tr>\n",
       "      <th>483</th>\n",
       "      <td>241132.40</td>\n",
       "      <td>2347.8</td>\n",
       "      <td>313.0</td>\n",
       "      <td>312.0</td>\n",
       "      <td>297.97</td>\n",
       "      <td>292.75</td>\n",
       "      <td>294.17</td>\n",
       "      <td>310.0</td>\n",
       "      <td>313.0</td>\n",
       "      <td>313.0</td>\n",
       "      <td>312.0</td>\n",
       "      <td>314.0</td>\n",
       "      <td>308.5</td>\n",
       "    </tr>\n",
       "    <tr>\n",
       "      <th>484</th>\n",
       "      <td>240747.20</td>\n",
       "      <td>2344.0</td>\n",
       "      <td>313.0</td>\n",
       "      <td>312.5</td>\n",
       "      <td>297.02</td>\n",
       "      <td>286.58</td>\n",
       "      <td>288.95</td>\n",
       "      <td>304.5</td>\n",
       "      <td>312.5</td>\n",
       "      <td>313.0</td>\n",
       "      <td>312.5</td>\n",
       "      <td>313.0</td>\n",
       "      <td>302.0</td>\n",
       "    </tr>\n",
       "  </tbody>\n",
       "</table>\n",
       "<p>2232 rows × 13 columns</p>\n",
       "</div>"
      ],
      "text/plain": [
       "      - MARKET VALUE   - PRICE INDEX   - ASK PRICE   - BID PRICE  \\\n",
       "0           53857.52           607.6          81.0          80.9   \n",
       "1           53525.05           603.8          80.6          80.5   \n",
       "2           53525.05           603.8          80.6          80.5   \n",
       "3           53857.52           607.6          81.0          80.9   \n",
       "4           55054.34           621.1          82.9          82.8   \n",
       "..               ...             ...           ...           ...   \n",
       "480        220331.80          2145.2         286.5         286.0   \n",
       "481        234969.30          2287.8         305.0         304.5   \n",
       "482        241517.60          2351.5         313.5         313.0   \n",
       "483        241132.40          2347.8         313.0         312.0   \n",
       "484        240747.20          2344.0         313.0         312.5   \n",
       "\n",
       "      - PRICE HIGH   - PRICE LOW   - OPENING PRICE   - UNADJ. PRICE OPEN  \\\n",
       "0            59.36         57.25             57.61                  79.0   \n",
       "1            59.29         58.42             59.07                  81.0   \n",
       "2            59.29         58.42             59.07                  81.0   \n",
       "3            59.73         58.78             59.22                  81.2   \n",
       "4            60.89         59.36             59.80                  82.0   \n",
       "..             ...           ...               ...                   ...   \n",
       "480         274.72        265.70            273.29                 288.0   \n",
       "481         292.75        275.19            275.19                 290.0   \n",
       "482         303.66        296.54            297.02                 313.0   \n",
       "483         297.97        292.75            294.17                 310.0   \n",
       "484         297.02        286.58            288.95                 304.5   \n",
       "\n",
       "      - UNADJUSTED PRICE   - UNADJ. ASK PRICE   - UNADJ. BID PRICE  \\\n",
       "0                   81.0                 81.0                 80.9   \n",
       "1                   80.5                 80.6                 80.5   \n",
       "2                   80.5                 80.6                 80.5   \n",
       "3                   81.0                 81.0                 80.9   \n",
       "4                   82.8                 82.9                 82.8   \n",
       "..                   ...                  ...                  ...   \n",
       "480                286.0                286.5                286.0   \n",
       "481                305.0                305.0                304.5   \n",
       "482                313.5                313.5                313.0   \n",
       "483                313.0                313.0                312.0   \n",
       "484                312.5                313.0                312.5   \n",
       "\n",
       "      - UNADJ. PRICE HIGH   - UNADJ. PRICE LOW  \n",
       "0                    81.4                 78.5  \n",
       "1                    81.3                 80.1  \n",
       "2                    81.3                 80.1  \n",
       "3                    81.9                 80.6  \n",
       "4                    83.5                 81.4  \n",
       "..                    ...                  ...  \n",
       "480                 289.5                280.0  \n",
       "481                 308.5                290.0  \n",
       "482                 320.0                312.5  \n",
       "483                 314.0                308.5  \n",
       "484                 313.0                302.0  \n",
       "\n",
       "[2232 rows x 13 columns]"
      ]
     },
     "execution_count": 15,
     "metadata": {},
     "output_type": "execute_result"
    }
   ],
   "source": [
    "training_set"
   ]
  },
  {
   "cell_type": "code",
   "execution_count": 16,
   "metadata": {},
   "outputs": [],
   "source": [
    "real_stock_price =data_all.iloc[2100:2232,1].values"
   ]
  },
  {
   "cell_type": "code",
   "execution_count": 17,
   "metadata": {
    "scrolled": true
   },
   "outputs": [],
   "source": [
    "sc = MinMaxScaler(feature_range = (0, 1))\n",
    "training_set_scaled = sc.fit_transform(training_set)\n",
    "sc1 = MinMaxScaler(feature_range = (0, 1))\n",
    "training_set_scaled1 = sc1.fit_transform(training_set1)"
   ]
  },
  {
   "cell_type": "code",
   "execution_count": 18,
   "metadata": {},
   "outputs": [],
   "source": [
    "X_train = []   \n",
    "y_train = []   \n",
    "for i in range(7, 2100):  # 2100 是訓練集總數\n",
    "    X_train.append(training_set_scaled[i-7:i,:])\n",
    "    y_train.append(training_set_scaled1[i,0])\n",
    "X_train, y_train = np.array(X_train), np.array(y_train)  # 轉成numpy array的格式，以利輸入 RNN\n",
    "X_train = np.reshape(X_train, (X_train.shape[0], X_train.shape[1]*X_train.shape[2], 1))\n",
    "# Import the Keras libraries and packages\n",
    "\n",
    "# Initialising the RNN\n",
    "regressor = Sequential()"
   ]
  },
  {
   "cell_type": "code",
   "execution_count": 19,
   "metadata": {},
   "outputs": [
    {
     "name": "stdout",
     "output_type": "stream",
     "text": [
      "Epoch 1/100\n",
      "2093/2093 [==============================] - 11s 5ms/step - loss: 0.0209\n",
      "Epoch 2/100\n",
      "2093/2093 [==============================] - 9s 4ms/step - loss: 0.0035\n",
      "Epoch 3/100\n",
      "2093/2093 [==============================] - 9s 4ms/step - loss: 0.0043\n",
      "Epoch 4/100\n",
      "2093/2093 [==============================] - 9s 4ms/step - loss: 0.0035\n",
      "Epoch 5/100\n",
      "2093/2093 [==============================] - 10s 5ms/step - loss: 0.0033\n",
      "Epoch 6/100\n",
      "2093/2093 [==============================] - 10s 5ms/step - loss: 0.0031\n",
      "Epoch 7/100\n",
      "2093/2093 [==============================] - 9s 4ms/step - loss: 0.0026\n",
      "Epoch 8/100\n",
      "2093/2093 [==============================] - 9s 4ms/step - loss: 0.0031\n",
      "Epoch 9/100\n",
      "2093/2093 [==============================] - 9s 5ms/step - loss: 0.0029\n",
      "Epoch 10/100\n",
      "2093/2093 [==============================] - 9s 4ms/step - loss: 0.0029\n",
      "Epoch 11/100\n",
      "2093/2093 [==============================] - 10s 5ms/step - loss: 0.0029\n",
      "Epoch 12/100\n",
      "2093/2093 [==============================] - 9s 4ms/step - loss: 0.0025\n",
      "Epoch 13/100\n",
      "2093/2093 [==============================] - 9s 4ms/step - loss: 0.0024\n",
      "Epoch 14/100\n",
      "2093/2093 [==============================] - 9s 4ms/step - loss: 0.0021\n",
      "Epoch 15/100\n",
      "2093/2093 [==============================] - 9s 4ms/step - loss: 0.0023\n",
      "Epoch 16/100\n",
      "2093/2093 [==============================] - 9s 4ms/step - loss: 0.0022\n",
      "Epoch 17/100\n",
      "2093/2093 [==============================] - 9s 4ms/step - loss: 0.0022\n",
      "Epoch 18/100\n",
      "2093/2093 [==============================] - 9s 4ms/step - loss: 0.0022\n",
      "Epoch 19/100\n",
      "2093/2093 [==============================] - 9s 4ms/step - loss: 0.0020\n",
      "Epoch 20/100\n",
      "2093/2093 [==============================] - 9s 4ms/step - loss: 0.0022\n",
      "Epoch 21/100\n",
      "2093/2093 [==============================] - 10s 5ms/step - loss: 0.0023\n",
      "Epoch 22/100\n",
      "2093/2093 [==============================] - 11s 5ms/step - loss: 0.0023\n",
      "Epoch 23/100\n",
      "2093/2093 [==============================] - 10s 5ms/step - loss: 0.0020\n",
      "Epoch 24/100\n",
      "2093/2093 [==============================] - 9s 4ms/step - loss: 0.0020\n",
      "Epoch 25/100\n",
      "2093/2093 [==============================] - 9s 4ms/step - loss: 0.0019\n",
      "Epoch 26/100\n",
      "2093/2093 [==============================] - 9s 4ms/step - loss: 0.0018\n",
      "Epoch 27/100\n",
      "2093/2093 [==============================] - 9s 4ms/step - loss: 0.0019\n",
      "Epoch 28/100\n",
      "2093/2093 [==============================] - 10s 5ms/step - loss: 0.0019\n",
      "Epoch 29/100\n",
      "2093/2093 [==============================] - 9s 4ms/step - loss: 0.0019\n",
      "Epoch 30/100\n",
      "2093/2093 [==============================] - 9s 4ms/step - loss: 0.0017\n",
      "Epoch 31/100\n",
      "2093/2093 [==============================] - 10s 5ms/step - loss: 0.0019\n",
      "Epoch 32/100\n",
      "2093/2093 [==============================] - 9s 4ms/step - loss: 0.0019\n",
      "Epoch 33/100\n",
      "2093/2093 [==============================] - 11s 5ms/step - loss: 0.0017\n",
      "Epoch 34/100\n",
      "2093/2093 [==============================] - 10s 5ms/step - loss: 0.0018\n",
      "Epoch 35/100\n",
      "2093/2093 [==============================] - 10s 5ms/step - loss: 0.0017\n",
      "Epoch 36/100\n",
      "2093/2093 [==============================] - 10s 5ms/step - loss: 0.0018\n",
      "Epoch 37/100\n",
      "2093/2093 [==============================] - 9s 4ms/step - loss: 0.0018\n",
      "Epoch 38/100\n",
      "2093/2093 [==============================] - 10s 5ms/step - loss: 0.0017\n",
      "Epoch 39/100\n",
      "2093/2093 [==============================] - 9s 4ms/step - loss: 0.0018\n",
      "Epoch 40/100\n",
      "2093/2093 [==============================] - 9s 5ms/step - loss: 0.0018\n",
      "Epoch 41/100\n",
      "2093/2093 [==============================] - 9s 4ms/step - loss: 0.0015\n",
      "Epoch 42/100\n",
      "2093/2093 [==============================] - 9s 4ms/step - loss: 0.0016\n",
      "Epoch 43/100\n",
      "2093/2093 [==============================] - 9s 4ms/step - loss: 0.0014\n",
      "Epoch 44/100\n",
      "2093/2093 [==============================] - 9s 4ms/step - loss: 0.0016\n",
      "Epoch 45/100\n",
      "2093/2093 [==============================] - 9s 4ms/step - loss: 0.0016\n",
      "Epoch 46/100\n",
      "2093/2093 [==============================] - 9s 4ms/step - loss: 0.0017\n",
      "Epoch 47/100\n",
      "2093/2093 [==============================] - 9s 4ms/step - loss: 0.0015\n",
      "Epoch 48/100\n",
      "2093/2093 [==============================] - 9s 4ms/step - loss: 0.0014\n",
      "Epoch 49/100\n",
      "2093/2093 [==============================] - 9s 5ms/step - loss: 0.0014\n",
      "Epoch 50/100\n",
      "2093/2093 [==============================] - 9s 4ms/step - loss: 0.0016\n",
      "Epoch 51/100\n",
      "2093/2093 [==============================] - 9s 4ms/step - loss: 0.0015\n",
      "Epoch 52/100\n",
      "2093/2093 [==============================] - 9s 4ms/step - loss: 0.0015\n",
      "Epoch 53/100\n",
      "2093/2093 [==============================] - 9s 4ms/step - loss: 0.0014\n",
      "Epoch 54/100\n",
      "2093/2093 [==============================] - 9s 4ms/step - loss: 0.0014\n",
      "Epoch 55/100\n",
      "2093/2093 [==============================] - 9s 4ms/step - loss: 0.0014\n",
      "Epoch 56/100\n",
      "2093/2093 [==============================] - 9s 4ms/step - loss: 0.0013\n",
      "Epoch 57/100\n",
      "2093/2093 [==============================] - 9s 4ms/step - loss: 0.0011\n",
      "Epoch 58/100\n",
      "2093/2093 [==============================] - 9s 4ms/step - loss: 0.0011\n",
      "Epoch 59/100\n",
      "2093/2093 [==============================] - 10s 5ms/step - loss: 9.7840e-04\n",
      "Epoch 60/100\n",
      "2093/2093 [==============================] - 9s 4ms/step - loss: 0.0012\n",
      "Epoch 61/100\n",
      "2093/2093 [==============================] - 9s 4ms/step - loss: 0.0011\n",
      "Epoch 62/100\n",
      "2093/2093 [==============================] - 9s 4ms/step - loss: 9.6039e-04\n",
      "Epoch 63/100\n",
      "2093/2093 [==============================] - 9s 4ms/step - loss: 9.4470e-04\n",
      "Epoch 64/100\n",
      "2093/2093 [==============================] - 9s 4ms/step - loss: 0.0011\n",
      "Epoch 65/100\n",
      "2093/2093 [==============================] - 9s 4ms/step - loss: 0.0010\n",
      "Epoch 66/100\n",
      "2093/2093 [==============================] - 9s 4ms/step - loss: 0.0010\n",
      "Epoch 67/100\n",
      "2093/2093 [==============================] - 9s 4ms/step - loss: 0.0011\n",
      "Epoch 68/100\n",
      "2093/2093 [==============================] - 9s 4ms/step - loss: 9.7268e-04\n",
      "Epoch 69/100\n",
      "2093/2093 [==============================] - 9s 4ms/step - loss: 9.1118e-04\n",
      "Epoch 70/100\n",
      "2093/2093 [==============================] - 10s 5ms/step - loss: 9.6192e-04\n",
      "Epoch 71/100\n",
      "2093/2093 [==============================] - 10s 5ms/step - loss: 0.0011\n",
      "Epoch 72/100\n",
      "2093/2093 [==============================] - 11s 5ms/step - loss: 9.2056e-04\n",
      "Epoch 73/100\n",
      "2093/2093 [==============================] - 9s 4ms/step - loss: 8.8558e-04\n",
      "Epoch 74/100\n",
      "2093/2093 [==============================] - 9s 4ms/step - loss: 9.4511e-04\n",
      "Epoch 75/100\n",
      "2093/2093 [==============================] - 9s 4ms/step - loss: 9.8991e-04\n",
      "Epoch 76/100\n",
      "2093/2093 [==============================] - 9s 4ms/step - loss: 9.8300e-04\n",
      "Epoch 77/100\n",
      "2093/2093 [==============================] - 9s 4ms/step - loss: 9.7873e-04\n",
      "Epoch 78/100\n",
      "2093/2093 [==============================] - 9s 4ms/step - loss: 0.0012\n",
      "Epoch 79/100\n",
      "2093/2093 [==============================] - 9s 4ms/step - loss: 9.9700e-04\n",
      "Epoch 80/100\n",
      "2093/2093 [==============================] - 9s 4ms/step - loss: 9.7277e-04\n",
      "Epoch 81/100\n",
      "2093/2093 [==============================] - 10s 5ms/step - loss: 0.0011\n",
      "Epoch 82/100\n",
      "2093/2093 [==============================] - 10s 5ms/step - loss: 0.0010\n",
      "Epoch 83/100\n",
      "2093/2093 [==============================] - 10s 5ms/step - loss: 9.4342e-04\n",
      "Epoch 84/100\n",
      "2093/2093 [==============================] - 10s 5ms/step - loss: 0.0011\n",
      "Epoch 85/100\n",
      "2093/2093 [==============================] - 9s 4ms/step - loss: 8.9716e-04\n",
      "Epoch 86/100\n",
      "2093/2093 [==============================] - 9s 4ms/step - loss: 9.4232e-04\n",
      "Epoch 87/100\n",
      "2093/2093 [==============================] - 10s 5ms/step - loss: 8.9562e-04\n",
      "Epoch 88/100\n",
      "2093/2093 [==============================] - 9s 4ms/step - loss: 8.3779e-04\n",
      "Epoch 89/100\n",
      "2093/2093 [==============================] - 9s 4ms/step - loss: 9.7613e-04\n",
      "Epoch 90/100\n",
      "2093/2093 [==============================] - 9s 4ms/step - loss: 9.6939e-04\n",
      "Epoch 91/100\n",
      "2093/2093 [==============================] - 10s 5ms/step - loss: 0.0010\n",
      "Epoch 92/100\n",
      "2093/2093 [==============================] - 9s 4ms/step - loss: 9.1694e-04\n",
      "Epoch 93/100\n",
      "2093/2093 [==============================] - 10s 5ms/step - loss: 8.7224e-04\n",
      "Epoch 94/100\n",
      "2093/2093 [==============================] - 10s 5ms/step - loss: 9.3442e-04\n",
      "Epoch 95/100\n",
      "2093/2093 [==============================] - 9s 4ms/step - loss: 9.6502e-04\n",
      "Epoch 96/100\n"
     ]
    },
    {
     "name": "stdout",
     "output_type": "stream",
     "text": [
      "2093/2093 [==============================] - 9s 4ms/step - loss: 9.3098e-04\n",
      "Epoch 97/100\n",
      "2093/2093 [==============================] - 9s 4ms/step - loss: 9.8275e-04\n",
      "Epoch 98/100\n",
      "2093/2093 [==============================] - 9s 4ms/step - loss: 8.5296e-04\n",
      "Epoch 99/100\n",
      "2093/2093 [==============================] - 9s 4ms/step - loss: 0.0010\n",
      "Epoch 100/100\n",
      "2093/2093 [==============================] - 9s 4ms/step - loss: 9.9719e-04\n"
     ]
    },
    {
     "data": {
      "text/plain": [
       "<keras.callbacks.callbacks.History at 0x1f3e4245dd8>"
      ]
     },
     "execution_count": 19,
     "metadata": {},
     "output_type": "execute_result"
    }
   ],
   "source": [
    "# Adding the first LSTM layer and some Dropout regularisation\n",
    "regressor.add(LSTM(units = 50, return_sequences = True, input_shape = (X_train.shape[1], 1)))\n",
    "regressor.add(Dropout(0.2))\n",
    "\n",
    "# Adding a second LSTM layer and some Dropout regularisation\n",
    "regressor.add(LSTM(units = 50, return_sequences = True))\n",
    "regressor.add(Dropout(0.2))\n",
    "\n",
    "# Adding a third LSTM layer and some Dropout regularisation\n",
    "regressor.add(LSTM(units = 50, return_sequences = True))\n",
    "regressor.add(Dropout(0.2))\n",
    "\n",
    "# Adding a fourth LSTM layer and some Dropout regularisation\n",
    "regressor.add(LSTM(units = 50))\n",
    "regressor.add(Dropout(0.2))\n",
    "# Adding the output layer\n",
    "regressor.add(Dense(units = 1))\n",
    "# Compiling\n",
    "regressor.compile(optimizer = 'adam', loss = 'mean_squared_error')\n",
    "\n",
    "# 進行訓練\n",
    "regressor.fit(X_train, y_train, epochs = 100, batch_size = 32)"
   ]
  },
  {
   "cell_type": "code",
   "execution_count": 20,
   "metadata": {},
   "outputs": [],
   "source": [
    "X_test=[]\n",
    "for i in range(2101, 2232):  # 1747 是訓練集總數\n",
    "    X_test.append(training_set_scaled[i-7:i,0:])"
   ]
  },
  {
   "cell_type": "code",
   "execution_count": 21,
   "metadata": {},
   "outputs": [],
   "source": [
    "X_test = np.array(X_test)\n",
    "X_test = np.reshape(X_test, (X_test.shape[0], X_test.shape[1]*X_test.shape[2], 1))"
   ]
  },
  {
   "cell_type": "code",
   "execution_count": 125,
   "metadata": {},
   "outputs": [],
   "source": [
    "predicted_stock_price = regressor.predict(X_test)"
   ]
  },
  {
   "cell_type": "code",
   "execution_count": 126,
   "metadata": {},
   "outputs": [],
   "source": [
    "predicted_stock_price = sc1.inverse_transform(predicted_stock_price)  # to get the original scale"
   ]
  },
  {
   "cell_type": "code",
   "execution_count": 127,
   "metadata": {},
   "outputs": [
    {
     "data": {
      "text/plain": [
       "Text(0, 0.5, 'E Price')"
      ]
     },
     "execution_count": 127,
     "metadata": {},
     "output_type": "execute_result"
    },
    {
     "data": {
      "image/png": "[encoded data removed]",
      "text/plain": [
       "<Figure size 432x288 with 1 Axes>"
      ]
     },
     "metadata": {},
     "output_type": "display_data"
    }
   ],
   "source": [
    "plt.plot(predicted_stock_price,color='red',label= 'predicted_stock_price')\n",
    "plt.plot(real_stock_price,color = 'blue',label='real_stock_price')\n",
    "plt.title('E Stock Price Prediction')\n",
    "plt.xlabel('Time')\n",
    "plt.ylabel('E Price')"
   ]
  },
  {
   "cell_type": "code",
   "execution_count": 128,
   "metadata": {},
   "outputs": [],
   "source": [
    "data_50 = pd.read_excel('E(蘋概股)_50 天_ques.xlsx') "
   ]
  },
  {
   "cell_type": "code",
   "execution_count": 129,
   "metadata": {},
   "outputs": [],
   "source": [
    "data_50 = data_50.iloc[:,[2,5,31,32,33,34,36,41,42,43,44,45,46]]"
   ]
  },
  {
   "cell_type": "code",
   "execution_count": 130,
   "metadata": {
    "scrolled": true
   },
   "outputs": [],
   "source": [
    "data_50plus = pd.concat((dataset_test,data_50),join='inner', axis = 0)\n",
    "data_50plus=data_50plus.fillna(method=\"ffill\")"
   ]
  },
  {
   "cell_type": "code",
   "execution_count": 131,
   "metadata": {},
   "outputs": [],
   "source": [
    "final_scaled=sc.transform(data_50plus)"
   ]
  },
  {
   "cell_type": "code",
   "execution_count": 132,
   "metadata": {},
   "outputs": [],
   "source": [
    "X_final = []\n",
    "for i in range(485, 535):  # 1747 是訓練集總數\n",
    "    X_final.append(final_scaled[i-7:i,0:])"
   ]
  },
  {
   "cell_type": "code",
   "execution_count": 133,
   "metadata": {},
   "outputs": [],
   "source": [
    "X_final = np.array(X_final)\n",
    "X_final = np.reshape(X_final, (X_final.shape[0], X_final.shape[1]*X_final.shape[2], 1))"
   ]
  },
  {
   "cell_type": "code",
   "execution_count": 134,
   "metadata": {},
   "outputs": [],
   "source": [
    "predicted_stock_price = regressor.predict(X_final)"
   ]
  },
  {
   "cell_type": "code",
   "execution_count": 135,
   "metadata": {},
   "outputs": [],
   "source": [
    "predicted_stock_price = sc1.inverse_transform(predicted_stock_price)"
   ]
  },
  {
   "cell_type": "code",
   "execution_count": 136,
   "metadata": {
    "scrolled": true
   },
   "outputs": [
    {
     "data": {
      "text/plain": [
       "[<matplotlib.lines.Line2D at 0x1f3f6b8a160>]"
      ]
     },
     "execution_count": 136,
     "metadata": {},
     "output_type": "execute_result"
    },
    {
     "data": {
      "image/png": "[encoded data removed]",
      "text/plain": [
       "<Figure size 432x288 with 1 Axes>"
      ]
     },
     "metadata": {},
     "output_type": "display_data"
    }
   ],
   "source": [
    "plt.plot(predicted_stock_price)"
   ]
  },
  {
   "cell_type": "code",
   "execution_count": 145,
   "metadata": {},
   "outputs": [],
   "source": [
    "predicted_stock_price=pd.DataFrame(predicted_stock_price)"
   ]
  },
  {
   "cell_type": "code",
   "execution_count": 146,
   "metadata": {},
   "outputs": [],
   "source": [
    "predicted_stock_price.to_excel('t.xlsx')"
   ]
  },
  {
   "cell_type": "code",
   "execution_count": 152,
   "metadata": {},
   "outputs": [],
   "source": [
    "hold=dataset_test.iloc[484,1:2]"
   ]
  },
  {
   "cell_type": "code",
   "execution_count": 153,
   "metadata": {
    "scrolled": true
   },
   "outputs": [
    {
     "data": {
      "text/plain": [
       "Unnamed: 1    296.54\n",
       "Name: 484, dtype: object"
      ]
     },
     "execution_count": 153,
     "metadata": {},
     "output_type": "execute_result"
    }
   ],
   "source": [
    "hold"
   ]
  },
  {
   "cell_type": "code",
   "execution_count": 154,
   "metadata": {},
   "outputs": [],
   "source": [
    "hold=pd.DataFrame(hold)"
   ]
  }
 ],
 "metadata": {
  "kernelspec": {
   "display_name": "Python 3",
   "language": "python",
   "name": "python3"
  },
  "language_info": {
   "codemirror_mode": {
    "name": "ipython",
    "version": 3
   },
   "file_extension": ".py",
   "mimetype": "text/x-python",
   "name": "python",
   "nbconvert_exporter": "python",
   "pygments_lexer": "ipython3",
   "version": "3.6.4"
  }
 },
 "nbformat": 4,
 "nbformat_minor": 2
}
